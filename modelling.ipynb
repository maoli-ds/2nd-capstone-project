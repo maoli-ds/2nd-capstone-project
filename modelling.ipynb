{
 "cells": [
  {
   "cell_type": "code",
   "execution_count": 1,
   "id": "5a3d95ef",
   "metadata": {},
   "outputs": [],
   "source": [
    "import numpy as np\n",
    "import pandas as pd\n",
    "import seaborn as sns\n",
    "from matplotlib import pyplot as plt\n",
    "from collections import defaultdict, Counter\n",
    "import os\n",
    "from datetime import timedelta\n",
    "import plotly.express as px\n",
    "\n",
    "\n",
    "pd.set_option('display.max_columns', None)\n",
    "pd.set_option('display.max_rows', None)"
   ]
  },
  {
   "cell_type": "code",
   "execution_count": 2,
   "id": "0aa8c864",
   "metadata": {},
   "outputs": [
    {
     "data": {
      "text/html": [
       "<div>\n",
       "<style scoped>\n",
       "    .dataframe tbody tr th:only-of-type {\n",
       "        vertical-align: middle;\n",
       "    }\n",
       "\n",
       "    .dataframe tbody tr th {\n",
       "        vertical-align: top;\n",
       "    }\n",
       "\n",
       "    .dataframe thead th {\n",
       "        text-align: right;\n",
       "    }\n",
       "</style>\n",
       "<table border=\"1\" class=\"dataframe\">\n",
       "  <thead>\n",
       "    <tr style=\"text-align: right;\">\n",
       "      <th></th>\n",
       "      <th>Date</th>\n",
       "      <th>Address</th>\n",
       "      <th>Species</th>\n",
       "      <th>Block</th>\n",
       "      <th>Street</th>\n",
       "      <th>Trap</th>\n",
       "      <th>AddressNumberAndStreet</th>\n",
       "      <th>Latitude</th>\n",
       "      <th>Longitude</th>\n",
       "      <th>AddressAccuracy</th>\n",
       "      <th>NumMosquitos</th>\n",
       "      <th>WnvPresent</th>\n",
       "      <th>datetime</th>\n",
       "      <th>month</th>\n",
       "      <th>Tmax</th>\n",
       "      <th>Tmin</th>\n",
       "      <th>Tavg</th>\n",
       "      <th>Depart</th>\n",
       "      <th>DewPoint</th>\n",
       "      <th>WetBulb</th>\n",
       "      <th>Heat</th>\n",
       "      <th>Cool</th>\n",
       "      <th>Sunrise</th>\n",
       "      <th>Sunset</th>\n",
       "      <th>water_equiv_snowfall</th>\n",
       "      <th>station_pressure</th>\n",
       "      <th>sealevel_pressure</th>\n",
       "      <th>wind_speed</th>\n",
       "      <th>wind_direction</th>\n",
       "      <th>avg_wind_speed</th>\n",
       "      <th>wind_direction_cos</th>\n",
       "      <th>wind_direction_sin</th>\n",
       "      <th>TS</th>\n",
       "      <th>RA</th>\n",
       "      <th>DZ</th>\n",
       "      <th>FG</th>\n",
       "      <th>BR</th>\n",
       "      <th>HZ</th>\n",
       "      <th>VC</th>\n",
       "      <th>MD</th>\n",
       "      <th>lat</th>\n",
       "      <th>lon</th>\n",
       "      <th>spray_dist</th>\n",
       "      <th>has_spray</th>\n",
       "      <th>spray_lat_diff</th>\n",
       "      <th>spray_lon_diff</th>\n",
       "      <th>station_dist</th>\n",
       "      <th>station_lat_diff</th>\n",
       "      <th>station_lon_diff</th>\n",
       "      <th>pre_spray_dist</th>\n",
       "      <th>pre_has_spray</th>\n",
       "      <th>pre_spray_lat_diff</th>\n",
       "      <th>pre_spray_lon_diff</th>\n",
       "      <th>population</th>\n",
       "      <th>median_income</th>\n",
       "      <th>population_density</th>\n",
       "    </tr>\n",
       "  </thead>\n",
       "  <tbody>\n",
       "    <tr>\n",
       "      <th>0</th>\n",
       "      <td>2007-05-29</td>\n",
       "      <td>4100 North Oak Park Avenue, Chicago, IL 60634,...</td>\n",
       "      <td>CULEX PIPIENS/RESTUANS</td>\n",
       "      <td>41</td>\n",
       "      <td>N OAK PARK AVE</td>\n",
       "      <td>T002</td>\n",
       "      <td>4100 N OAK PARK AVE, Chicago, IL</td>\n",
       "      <td>41.954690</td>\n",
       "      <td>-87.800991</td>\n",
       "      <td>9</td>\n",
       "      <td>1</td>\n",
       "      <td>0</td>\n",
       "      <td>2007-05-29</td>\n",
       "      <td>5</td>\n",
       "      <td>88</td>\n",
       "      <td>60</td>\n",
       "      <td>74.0</td>\n",
       "      <td>10.0</td>\n",
       "      <td>58</td>\n",
       "      <td>65.0</td>\n",
       "      <td>0.0</td>\n",
       "      <td>9.0</td>\n",
       "      <td>421</td>\n",
       "      <td>1917</td>\n",
       "      <td>0.0</td>\n",
       "      <td>29.39</td>\n",
       "      <td>30.11</td>\n",
       "      <td>5.8</td>\n",
       "      <td>180</td>\n",
       "      <td>6.5</td>\n",
       "      <td>-1.0</td>\n",
       "      <td>1.224647e-16</td>\n",
       "      <td>0</td>\n",
       "      <td>0</td>\n",
       "      <td>0</td>\n",
       "      <td>0</td>\n",
       "      <td>1</td>\n",
       "      <td>1</td>\n",
       "      <td>0</td>\n",
       "      <td>0</td>\n",
       "      <td>41.995</td>\n",
       "      <td>-87.933</td>\n",
       "      <td>1.414</td>\n",
       "      <td>0</td>\n",
       "      <td>1.0</td>\n",
       "      <td>1.0</td>\n",
       "      <td>0.138026</td>\n",
       "      <td>-0.040310</td>\n",
       "      <td>0.132009</td>\n",
       "      <td>1.414</td>\n",
       "      <td>0</td>\n",
       "      <td>1.0</td>\n",
       "      <td>1.0</td>\n",
       "      <td>75604</td>\n",
       "      <td>55324.0</td>\n",
       "      <td>10611.96</td>\n",
       "    </tr>\n",
       "    <tr>\n",
       "      <th>1</th>\n",
       "      <td>2007-05-29</td>\n",
       "      <td>4100 North Oak Park Avenue, Chicago, IL 60634,...</td>\n",
       "      <td>CULEX RESTUANS</td>\n",
       "      <td>41</td>\n",
       "      <td>N OAK PARK AVE</td>\n",
       "      <td>T002</td>\n",
       "      <td>4100 N OAK PARK AVE, Chicago, IL</td>\n",
       "      <td>41.954690</td>\n",
       "      <td>-87.800991</td>\n",
       "      <td>9</td>\n",
       "      <td>1</td>\n",
       "      <td>0</td>\n",
       "      <td>2007-05-29</td>\n",
       "      <td>5</td>\n",
       "      <td>88</td>\n",
       "      <td>60</td>\n",
       "      <td>74.0</td>\n",
       "      <td>10.0</td>\n",
       "      <td>58</td>\n",
       "      <td>65.0</td>\n",
       "      <td>0.0</td>\n",
       "      <td>9.0</td>\n",
       "      <td>421</td>\n",
       "      <td>1917</td>\n",
       "      <td>0.0</td>\n",
       "      <td>29.39</td>\n",
       "      <td>30.11</td>\n",
       "      <td>5.8</td>\n",
       "      <td>180</td>\n",
       "      <td>6.5</td>\n",
       "      <td>-1.0</td>\n",
       "      <td>1.224647e-16</td>\n",
       "      <td>0</td>\n",
       "      <td>0</td>\n",
       "      <td>0</td>\n",
       "      <td>0</td>\n",
       "      <td>1</td>\n",
       "      <td>1</td>\n",
       "      <td>0</td>\n",
       "      <td>0</td>\n",
       "      <td>41.995</td>\n",
       "      <td>-87.933</td>\n",
       "      <td>1.414</td>\n",
       "      <td>0</td>\n",
       "      <td>1.0</td>\n",
       "      <td>1.0</td>\n",
       "      <td>0.138026</td>\n",
       "      <td>-0.040310</td>\n",
       "      <td>0.132009</td>\n",
       "      <td>1.414</td>\n",
       "      <td>0</td>\n",
       "      <td>1.0</td>\n",
       "      <td>1.0</td>\n",
       "      <td>75604</td>\n",
       "      <td>55324.0</td>\n",
       "      <td>10611.96</td>\n",
       "    </tr>\n",
       "    <tr>\n",
       "      <th>2</th>\n",
       "      <td>2007-05-29</td>\n",
       "      <td>6200 North Mandell Avenue, Chicago, IL 60646, USA</td>\n",
       "      <td>CULEX RESTUANS</td>\n",
       "      <td>62</td>\n",
       "      <td>N MANDELL AVE</td>\n",
       "      <td>T007</td>\n",
       "      <td>6200 N MANDELL AVE, Chicago, IL</td>\n",
       "      <td>41.994991</td>\n",
       "      <td>-87.769279</td>\n",
       "      <td>9</td>\n",
       "      <td>1</td>\n",
       "      <td>0</td>\n",
       "      <td>2007-05-29</td>\n",
       "      <td>5</td>\n",
       "      <td>88</td>\n",
       "      <td>60</td>\n",
       "      <td>74.0</td>\n",
       "      <td>10.0</td>\n",
       "      <td>58</td>\n",
       "      <td>65.0</td>\n",
       "      <td>0.0</td>\n",
       "      <td>9.0</td>\n",
       "      <td>421</td>\n",
       "      <td>1917</td>\n",
       "      <td>0.0</td>\n",
       "      <td>29.39</td>\n",
       "      <td>30.11</td>\n",
       "      <td>5.8</td>\n",
       "      <td>180</td>\n",
       "      <td>6.5</td>\n",
       "      <td>-1.0</td>\n",
       "      <td>1.224647e-16</td>\n",
       "      <td>0</td>\n",
       "      <td>0</td>\n",
       "      <td>0</td>\n",
       "      <td>0</td>\n",
       "      <td>1</td>\n",
       "      <td>1</td>\n",
       "      <td>0</td>\n",
       "      <td>0</td>\n",
       "      <td>41.995</td>\n",
       "      <td>-87.933</td>\n",
       "      <td>1.414</td>\n",
       "      <td>0</td>\n",
       "      <td>1.0</td>\n",
       "      <td>1.0</td>\n",
       "      <td>0.163721</td>\n",
       "      <td>-0.000009</td>\n",
       "      <td>0.163721</td>\n",
       "      <td>1.414</td>\n",
       "      <td>0</td>\n",
       "      <td>1.0</td>\n",
       "      <td>1.0</td>\n",
       "      <td>29043</td>\n",
       "      <td>72086.0</td>\n",
       "      <td>5741.46</td>\n",
       "    </tr>\n",
       "  </tbody>\n",
       "</table>\n",
       "</div>"
      ],
      "text/plain": [
       "         Date                                            Address  \\\n",
       "0  2007-05-29  4100 North Oak Park Avenue, Chicago, IL 60634,...   \n",
       "1  2007-05-29  4100 North Oak Park Avenue, Chicago, IL 60634,...   \n",
       "2  2007-05-29  6200 North Mandell Avenue, Chicago, IL 60646, USA   \n",
       "\n",
       "                  Species  Block          Street  Trap  \\\n",
       "0  CULEX PIPIENS/RESTUANS     41  N OAK PARK AVE  T002   \n",
       "1          CULEX RESTUANS     41  N OAK PARK AVE  T002   \n",
       "2          CULEX RESTUANS     62   N MANDELL AVE  T007   \n",
       "\n",
       "             AddressNumberAndStreet   Latitude  Longitude  AddressAccuracy  \\\n",
       "0  4100 N OAK PARK AVE, Chicago, IL  41.954690 -87.800991                9   \n",
       "1  4100 N OAK PARK AVE, Chicago, IL  41.954690 -87.800991                9   \n",
       "2   6200 N MANDELL AVE, Chicago, IL  41.994991 -87.769279                9   \n",
       "\n",
       "   NumMosquitos  WnvPresent    datetime  month  Tmax  Tmin  Tavg  Depart  \\\n",
       "0             1           0  2007-05-29      5    88    60  74.0    10.0   \n",
       "1             1           0  2007-05-29      5    88    60  74.0    10.0   \n",
       "2             1           0  2007-05-29      5    88    60  74.0    10.0   \n",
       "\n",
       "   DewPoint  WetBulb  Heat  Cool  Sunrise  Sunset  water_equiv_snowfall  \\\n",
       "0        58     65.0   0.0   9.0      421    1917                   0.0   \n",
       "1        58     65.0   0.0   9.0      421    1917                   0.0   \n",
       "2        58     65.0   0.0   9.0      421    1917                   0.0   \n",
       "\n",
       "   station_pressure  sealevel_pressure  wind_speed  wind_direction  \\\n",
       "0             29.39              30.11         5.8             180   \n",
       "1             29.39              30.11         5.8             180   \n",
       "2             29.39              30.11         5.8             180   \n",
       "\n",
       "   avg_wind_speed  wind_direction_cos  wind_direction_sin  TS  RA  DZ  FG  BR  \\\n",
       "0             6.5                -1.0        1.224647e-16   0   0   0   0   1   \n",
       "1             6.5                -1.0        1.224647e-16   0   0   0   0   1   \n",
       "2             6.5                -1.0        1.224647e-16   0   0   0   0   1   \n",
       "\n",
       "   HZ  VC  MD     lat     lon  spray_dist  has_spray  spray_lat_diff  \\\n",
       "0   1   0   0  41.995 -87.933       1.414          0             1.0   \n",
       "1   1   0   0  41.995 -87.933       1.414          0             1.0   \n",
       "2   1   0   0  41.995 -87.933       1.414          0             1.0   \n",
       "\n",
       "   spray_lon_diff  station_dist  station_lat_diff  station_lon_diff  \\\n",
       "0             1.0      0.138026         -0.040310          0.132009   \n",
       "1             1.0      0.138026         -0.040310          0.132009   \n",
       "2             1.0      0.163721         -0.000009          0.163721   \n",
       "\n",
       "   pre_spray_dist  pre_has_spray  pre_spray_lat_diff  pre_spray_lon_diff  \\\n",
       "0           1.414              0                 1.0                 1.0   \n",
       "1           1.414              0                 1.0                 1.0   \n",
       "2           1.414              0                 1.0                 1.0   \n",
       "\n",
       "   population  median_income  population_density  \n",
       "0       75604        55324.0            10611.96  \n",
       "1       75604        55324.0            10611.96  \n",
       "2       29043        72086.0             5741.46  "
      ]
     },
     "execution_count": 2,
     "metadata": {},
     "output_type": "execute_result"
    }
   ],
   "source": [
    "data = pd.read_csv('more_resource.csv')\n",
    "data.drop(columns=['Unnamed: 0'], inplace=True)\n",
    "data.head(3)"
   ]
  },
  {
   "cell_type": "code",
   "execution_count": 3,
   "id": "3d14c5b5",
   "metadata": {},
   "outputs": [
    {
     "data": {
      "text/plain": [
       "136"
      ]
     },
     "execution_count": 3,
     "metadata": {},
     "output_type": "execute_result"
    }
   ],
   "source": [
    "data['Trap'].unique().size"
   ]
  },
  {
   "cell_type": "code",
   "execution_count": 4,
   "id": "5a936b42",
   "metadata": {},
   "outputs": [
    {
     "data": {
      "text/plain": [
       "138"
      ]
     },
     "execution_count": 4,
     "metadata": {},
     "output_type": "execute_result"
    }
   ],
   "source": [
    "data['AddressNumberAndStreet'].unique().size"
   ]
  },
  {
   "cell_type": "code",
   "execution_count": 5,
   "id": "a8d9d33d",
   "metadata": {},
   "outputs": [
    {
     "data": {
      "text/plain": [
       "10506"
      ]
     },
     "execution_count": 5,
     "metadata": {},
     "output_type": "execute_result"
    }
   ],
   "source": [
    "data.shape[0]"
   ]
  },
  {
   "cell_type": "code",
   "execution_count": 6,
   "id": "b9e89532",
   "metadata": {},
   "outputs": [
    {
     "data": {
      "text/plain": [
       "551"
      ]
     },
     "execution_count": 6,
     "metadata": {},
     "output_type": "execute_result"
    }
   ],
   "source": [
    "data['WnvPresent'].sum()"
   ]
  },
  {
   "cell_type": "markdown",
   "id": "b7aff2f7",
   "metadata": {},
   "source": [
    "Our dataset is very unbalanced. one can do oversampling."
   ]
  },
  {
   "cell_type": "code",
   "execution_count": 7,
   "id": "aa612d21",
   "metadata": {},
   "outputs": [],
   "source": [
    "data.drop(columns = ['Date', 'datetime', 'Sunrise', 'Sunset', 'lat', 'lon', 'Trap', 'AddressAccuracy', 'Address', 'HZ', 'RA', 'spray_dist','has_spray','spray_lat_diff','spray_lon_diff'], inplace=True)\n",
    "\n",
    "y = data['WnvPresent']\n",
    "\n",
    "X = data.drop(columns=['WnvPresent'])"
   ]
  },
  {
   "cell_type": "code",
   "execution_count": 8,
   "id": "0258187a",
   "metadata": {},
   "outputs": [],
   "source": [
    "from sklearn.model_selection import train_test_split\n",
    "\n",
    "X_train, X_test, y_train, y_test = train_test_split(X, y, test_size=0.2, random_state=91, stratify=y.values)\n",
    "X_train.reset_index(inplace=True, drop=True)\n",
    "X_test.reset_index(inplace=True, drop=True)"
   ]
  },
  {
   "cell_type": "code",
   "execution_count": 9,
   "id": "e5b04cc8",
   "metadata": {},
   "outputs": [],
   "source": [
    "def oversample(X, y):\n",
    "    num_samples = 5000\n",
    "    a, b = X.loc[y.values==0, :].copy(), X.loc[y.values==1, :].copy()\n",
    "    sample_a = a.sample(num_samples, replace=True, random_state=41)\n",
    "    sample_b = b.sample(num_samples, replace=True, random_state=41)\n",
    "    y_a = np.zeros(num_samples)\n",
    "    y_b = np.ones(num_samples)\n",
    "    return pd.concat([sample_a, sample_b]), np.concatenate([y_a, y_b])"
   ]
  },
  {
   "cell_type": "code",
   "execution_count": 10,
   "id": "e6490808",
   "metadata": {},
   "outputs": [],
   "source": [
    "def group_region(df):\n",
    "    grp = []\n",
    "    for i in range(0,df.shape[0]):\n",
    "        x, y = df['Latitude'].values[i], df['Longitude'].values[i]\n",
    "        if y<=87.778:\n",
    "            if x<=41.964:\n",
    "                if x<=41.943:\n",
    "                    grp.append(0)\n",
    "                else:\n",
    "                    grp.append(1)\n",
    "            else:\n",
    "                if y<=-87.796:\n",
    "                    grp.append(2)\n",
    "                else:\n",
    "                    grp.append(3)\n",
    "        else:\n",
    "            if x<=41.711:\n",
    "                if y<=-87.69:\n",
    "                    grp.append(4)\n",
    "                else:\n",
    "                    grp.append(5)\n",
    "            else:\n",
    "                if y<=-87.722:\n",
    "                    grp.append(6)\n",
    "                else:\n",
    "                    grp.append(7)\n",
    "    return grp                "
   ]
  },
  {
   "cell_type": "code",
   "execution_count": 11,
   "id": "8a92c4ce",
   "metadata": {},
   "outputs": [],
   "source": [
    "X_train['region_grp'] = group_region(X_train)\n",
    "X_test['region_grp'] = group_region(X_test)"
   ]
  },
  {
   "cell_type": "code",
   "execution_count": 12,
   "id": "ce29310e",
   "metadata": {},
   "outputs": [
    {
     "data": {
      "text/html": [
       "<div>\n",
       "<style scoped>\n",
       "    .dataframe tbody tr th:only-of-type {\n",
       "        vertical-align: middle;\n",
       "    }\n",
       "\n",
       "    .dataframe tbody tr th {\n",
       "        vertical-align: top;\n",
       "    }\n",
       "\n",
       "    .dataframe thead th {\n",
       "        text-align: right;\n",
       "    }\n",
       "</style>\n",
       "<table border=\"1\" class=\"dataframe\">\n",
       "  <thead>\n",
       "    <tr style=\"text-align: right;\">\n",
       "      <th></th>\n",
       "      <th>Species</th>\n",
       "      <th>Block</th>\n",
       "      <th>Street</th>\n",
       "      <th>AddressNumberAndStreet</th>\n",
       "      <th>Latitude</th>\n",
       "      <th>Longitude</th>\n",
       "      <th>NumMosquitos</th>\n",
       "      <th>month</th>\n",
       "      <th>Tmax</th>\n",
       "      <th>Tmin</th>\n",
       "      <th>Tavg</th>\n",
       "      <th>Depart</th>\n",
       "      <th>DewPoint</th>\n",
       "      <th>WetBulb</th>\n",
       "      <th>Heat</th>\n",
       "      <th>Cool</th>\n",
       "      <th>water_equiv_snowfall</th>\n",
       "      <th>station_pressure</th>\n",
       "      <th>sealevel_pressure</th>\n",
       "      <th>wind_speed</th>\n",
       "      <th>wind_direction</th>\n",
       "      <th>avg_wind_speed</th>\n",
       "      <th>wind_direction_cos</th>\n",
       "      <th>wind_direction_sin</th>\n",
       "      <th>TS</th>\n",
       "      <th>DZ</th>\n",
       "      <th>FG</th>\n",
       "      <th>BR</th>\n",
       "      <th>VC</th>\n",
       "      <th>MD</th>\n",
       "      <th>station_dist</th>\n",
       "      <th>station_lat_diff</th>\n",
       "      <th>station_lon_diff</th>\n",
       "      <th>pre_spray_dist</th>\n",
       "      <th>pre_has_spray</th>\n",
       "      <th>pre_spray_lat_diff</th>\n",
       "      <th>pre_spray_lon_diff</th>\n",
       "      <th>population</th>\n",
       "      <th>median_income</th>\n",
       "      <th>population_density</th>\n",
       "      <th>region_grp</th>\n",
       "    </tr>\n",
       "  </thead>\n",
       "  <tbody>\n",
       "    <tr>\n",
       "      <th>0</th>\n",
       "      <td>CULEX PIPIENS/RESTUANS</td>\n",
       "      <td>45</td>\n",
       "      <td>N CAMPBELL AVE</td>\n",
       "      <td>4500 N CAMPBELL AVE, Chicago, IL</td>\n",
       "      <td>41.963976</td>\n",
       "      <td>-87.691810</td>\n",
       "      <td>2</td>\n",
       "      <td>8</td>\n",
       "      <td>92</td>\n",
       "      <td>69</td>\n",
       "      <td>81.0</td>\n",
       "      <td>8.0</td>\n",
       "      <td>62</td>\n",
       "      <td>69.0</td>\n",
       "      <td>0.0</td>\n",
       "      <td>16.0</td>\n",
       "      <td>0.0</td>\n",
       "      <td>29.29</td>\n",
       "      <td>30.00</td>\n",
       "      <td>3.5</td>\n",
       "      <td>90</td>\n",
       "      <td>4.1</td>\n",
       "      <td>6.123234e-17</td>\n",
       "      <td>1.000000</td>\n",
       "      <td>0</td>\n",
       "      <td>0</td>\n",
       "      <td>0</td>\n",
       "      <td>0</td>\n",
       "      <td>0</td>\n",
       "      <td>0</td>\n",
       "      <td>0.243177</td>\n",
       "      <td>-0.031024</td>\n",
       "      <td>0.241190</td>\n",
       "      <td>1.414</td>\n",
       "      <td>0</td>\n",
       "      <td>1.0</td>\n",
       "      <td>1.0</td>\n",
       "      <td>78820</td>\n",
       "      <td>57252.0</td>\n",
       "      <td>23681.910</td>\n",
       "      <td>1</td>\n",
       "    </tr>\n",
       "    <tr>\n",
       "      <th>1</th>\n",
       "      <td>CULEX TERRITANS</td>\n",
       "      <td>53</td>\n",
       "      <td>N STREETER DR</td>\n",
       "      <td>5300 N STREETER DR, Chicago, IL</td>\n",
       "      <td>41.891126</td>\n",
       "      <td>-87.611560</td>\n",
       "      <td>1</td>\n",
       "      <td>9</td>\n",
       "      <td>90</td>\n",
       "      <td>68</td>\n",
       "      <td>79.0</td>\n",
       "      <td>18.0</td>\n",
       "      <td>63</td>\n",
       "      <td>68.0</td>\n",
       "      <td>0.0</td>\n",
       "      <td>14.0</td>\n",
       "      <td>0.0</td>\n",
       "      <td>29.27</td>\n",
       "      <td>29.99</td>\n",
       "      <td>11.4</td>\n",
       "      <td>190</td>\n",
       "      <td>11.9</td>\n",
       "      <td>-9.848078e-01</td>\n",
       "      <td>-0.173648</td>\n",
       "      <td>0</td>\n",
       "      <td>0</td>\n",
       "      <td>0</td>\n",
       "      <td>0</td>\n",
       "      <td>0</td>\n",
       "      <td>1</td>\n",
       "      <td>0.337807</td>\n",
       "      <td>-0.103874</td>\n",
       "      <td>0.321440</td>\n",
       "      <td>1.414</td>\n",
       "      <td>0</td>\n",
       "      <td>1.0</td>\n",
       "      <td>1.0</td>\n",
       "      <td>33937</td>\n",
       "      <td>85074.0</td>\n",
       "      <td>17783.870</td>\n",
       "      <td>0</td>\n",
       "    </tr>\n",
       "    <tr>\n",
       "      <th>2</th>\n",
       "      <td>CULEX PIPIENS</td>\n",
       "      <td>11</td>\n",
       "      <td>W CHICAGO</td>\n",
       "      <td>1100 W CHICAGO, Chicago, IL</td>\n",
       "      <td>41.896282</td>\n",
       "      <td>-87.655232</td>\n",
       "      <td>5</td>\n",
       "      <td>8</td>\n",
       "      <td>89</td>\n",
       "      <td>66</td>\n",
       "      <td>78.0</td>\n",
       "      <td>8.0</td>\n",
       "      <td>64</td>\n",
       "      <td>69.0</td>\n",
       "      <td>0.0</td>\n",
       "      <td>13.0</td>\n",
       "      <td>0.0</td>\n",
       "      <td>29.29</td>\n",
       "      <td>30.01</td>\n",
       "      <td>3.9</td>\n",
       "      <td>100</td>\n",
       "      <td>4.7</td>\n",
       "      <td>-1.736482e-01</td>\n",
       "      <td>0.984808</td>\n",
       "      <td>0</td>\n",
       "      <td>0</td>\n",
       "      <td>0</td>\n",
       "      <td>1</td>\n",
       "      <td>0</td>\n",
       "      <td>0</td>\n",
       "      <td>0.294789</td>\n",
       "      <td>-0.098718</td>\n",
       "      <td>0.277768</td>\n",
       "      <td>1.414</td>\n",
       "      <td>0</td>\n",
       "      <td>1.0</td>\n",
       "      <td>1.0</td>\n",
       "      <td>20191</td>\n",
       "      <td>70188.0</td>\n",
       "      <td>56.465</td>\n",
       "      <td>0</td>\n",
       "    </tr>\n",
       "    <tr>\n",
       "      <th>3</th>\n",
       "      <td>CULEX PIPIENS/RESTUANS</td>\n",
       "      <td>35</td>\n",
       "      <td>W 51ST ST</td>\n",
       "      <td>3500 W 51ST ST, Chicago, IL</td>\n",
       "      <td>41.800737</td>\n",
       "      <td>-87.711880</td>\n",
       "      <td>5</td>\n",
       "      <td>10</td>\n",
       "      <td>83</td>\n",
       "      <td>56</td>\n",
       "      <td>70.0</td>\n",
       "      <td>10.0</td>\n",
       "      <td>56</td>\n",
       "      <td>62.0</td>\n",
       "      <td>0.0</td>\n",
       "      <td>5.0</td>\n",
       "      <td>0.0</td>\n",
       "      <td>29.39</td>\n",
       "      <td>30.03</td>\n",
       "      <td>4.6</td>\n",
       "      <td>170</td>\n",
       "      <td>5.9</td>\n",
       "      <td>-9.848078e-01</td>\n",
       "      <td>0.173648</td>\n",
       "      <td>0</td>\n",
       "      <td>0</td>\n",
       "      <td>0</td>\n",
       "      <td>0</td>\n",
       "      <td>0</td>\n",
       "      <td>0</td>\n",
       "      <td>0.042741</td>\n",
       "      <td>0.014737</td>\n",
       "      <td>0.040120</td>\n",
       "      <td>1.414</td>\n",
       "      <td>0</td>\n",
       "      <td>1.0</td>\n",
       "      <td>1.0</td>\n",
       "      <td>86715</td>\n",
       "      <td>38196.0</td>\n",
       "      <td>12507.780</td>\n",
       "      <td>0</td>\n",
       "    </tr>\n",
       "    <tr>\n",
       "      <th>4</th>\n",
       "      <td>CULEX RESTUANS</td>\n",
       "      <td>58</td>\n",
       "      <td>N WESTERN AVE</td>\n",
       "      <td>5800 N WESTERN AVE, Chicago, IL</td>\n",
       "      <td>41.986921</td>\n",
       "      <td>-87.689778</td>\n",
       "      <td>2</td>\n",
       "      <td>9</td>\n",
       "      <td>84</td>\n",
       "      <td>58</td>\n",
       "      <td>71.0</td>\n",
       "      <td>7.0</td>\n",
       "      <td>55</td>\n",
       "      <td>61.0</td>\n",
       "      <td>0.0</td>\n",
       "      <td>6.0</td>\n",
       "      <td>0.0</td>\n",
       "      <td>29.34</td>\n",
       "      <td>30.07</td>\n",
       "      <td>0.1</td>\n",
       "      <td>330</td>\n",
       "      <td>2.1</td>\n",
       "      <td>8.660254e-01</td>\n",
       "      <td>-0.500000</td>\n",
       "      <td>0</td>\n",
       "      <td>0</td>\n",
       "      <td>0</td>\n",
       "      <td>0</td>\n",
       "      <td>0</td>\n",
       "      <td>1</td>\n",
       "      <td>0.243356</td>\n",
       "      <td>-0.008079</td>\n",
       "      <td>0.243222</td>\n",
       "      <td>1.414</td>\n",
       "      <td>0</td>\n",
       "      <td>1.0</td>\n",
       "      <td>1.0</td>\n",
       "      <td>78820</td>\n",
       "      <td>57252.0</td>\n",
       "      <td>23681.910</td>\n",
       "      <td>3</td>\n",
       "    </tr>\n",
       "  </tbody>\n",
       "</table>\n",
       "</div>"
      ],
      "text/plain": [
       "                  Species  Block          Street  \\\n",
       "0  CULEX PIPIENS/RESTUANS     45  N CAMPBELL AVE   \n",
       "1         CULEX TERRITANS     53   N STREETER DR   \n",
       "2           CULEX PIPIENS     11       W CHICAGO   \n",
       "3  CULEX PIPIENS/RESTUANS     35       W 51ST ST   \n",
       "4          CULEX RESTUANS     58   N WESTERN AVE   \n",
       "\n",
       "             AddressNumberAndStreet   Latitude  Longitude  NumMosquitos  \\\n",
       "0  4500 N CAMPBELL AVE, Chicago, IL  41.963976 -87.691810             2   \n",
       "1   5300 N STREETER DR, Chicago, IL  41.891126 -87.611560             1   \n",
       "2       1100 W CHICAGO, Chicago, IL  41.896282 -87.655232             5   \n",
       "3       3500 W 51ST ST, Chicago, IL  41.800737 -87.711880             5   \n",
       "4   5800 N WESTERN AVE, Chicago, IL  41.986921 -87.689778             2   \n",
       "\n",
       "   month  Tmax  Tmin  Tavg  Depart  DewPoint  WetBulb  Heat  Cool  \\\n",
       "0      8    92    69  81.0     8.0        62     69.0   0.0  16.0   \n",
       "1      9    90    68  79.0    18.0        63     68.0   0.0  14.0   \n",
       "2      8    89    66  78.0     8.0        64     69.0   0.0  13.0   \n",
       "3     10    83    56  70.0    10.0        56     62.0   0.0   5.0   \n",
       "4      9    84    58  71.0     7.0        55     61.0   0.0   6.0   \n",
       "\n",
       "   water_equiv_snowfall  station_pressure  sealevel_pressure  wind_speed  \\\n",
       "0                   0.0             29.29              30.00         3.5   \n",
       "1                   0.0             29.27              29.99        11.4   \n",
       "2                   0.0             29.29              30.01         3.9   \n",
       "3                   0.0             29.39              30.03         4.6   \n",
       "4                   0.0             29.34              30.07         0.1   \n",
       "\n",
       "   wind_direction  avg_wind_speed  wind_direction_cos  wind_direction_sin  TS  \\\n",
       "0              90             4.1        6.123234e-17            1.000000   0   \n",
       "1             190            11.9       -9.848078e-01           -0.173648   0   \n",
       "2             100             4.7       -1.736482e-01            0.984808   0   \n",
       "3             170             5.9       -9.848078e-01            0.173648   0   \n",
       "4             330             2.1        8.660254e-01           -0.500000   0   \n",
       "\n",
       "   DZ  FG  BR  VC  MD  station_dist  station_lat_diff  station_lon_diff  \\\n",
       "0   0   0   0   0   0      0.243177         -0.031024          0.241190   \n",
       "1   0   0   0   0   1      0.337807         -0.103874          0.321440   \n",
       "2   0   0   1   0   0      0.294789         -0.098718          0.277768   \n",
       "3   0   0   0   0   0      0.042741          0.014737          0.040120   \n",
       "4   0   0   0   0   1      0.243356         -0.008079          0.243222   \n",
       "\n",
       "   pre_spray_dist  pre_has_spray  pre_spray_lat_diff  pre_spray_lon_diff  \\\n",
       "0           1.414              0                 1.0                 1.0   \n",
       "1           1.414              0                 1.0                 1.0   \n",
       "2           1.414              0                 1.0                 1.0   \n",
       "3           1.414              0                 1.0                 1.0   \n",
       "4           1.414              0                 1.0                 1.0   \n",
       "\n",
       "   population  median_income  population_density  region_grp  \n",
       "0       78820        57252.0           23681.910           1  \n",
       "1       33937        85074.0           17783.870           0  \n",
       "2       20191        70188.0              56.465           0  \n",
       "3       86715        38196.0           12507.780           0  \n",
       "4       78820        57252.0           23681.910           3  "
      ]
     },
     "execution_count": 12,
     "metadata": {},
     "output_type": "execute_result"
    }
   ],
   "source": [
    "X_train.head()"
   ]
  },
  {
   "cell_type": "code",
   "execution_count": 13,
   "id": "0c095da0",
   "metadata": {},
   "outputs": [],
   "source": [
    "resample_X_train, resample_y_train = oversample(X_train, y_train)"
   ]
  },
  {
   "cell_type": "code",
   "execution_count": 14,
   "id": "2b6079a8",
   "metadata": {},
   "outputs": [],
   "source": [
    "from sklearn.compose import ColumnTransformer\n",
    "from sklearn.preprocessing import OrdinalEncoder\n",
    "\n",
    "transformer = ColumnTransformer(transformers = [('categorical', OrdinalEncoder(dtype=np.int64,\n",
    "                                                                               handle_unknown='use_encoded_value', unknown_value=-1), ['Species', 'Block', 'Street', 'AddressNumberAndStreet'])],\n",
    "                               remainder='passthrough', verbose_feature_names_out=False)"
   ]
  },
  {
   "cell_type": "code",
   "execution_count": 15,
   "id": "50914a27",
   "metadata": {},
   "outputs": [
    {
     "data": {
      "text/plain": [
       "Pipeline(steps=[('tr',\n",
       "                 ColumnTransformer(remainder='passthrough',\n",
       "                                   transformers=[('categorical',\n",
       "                                                  OrdinalEncoder(dtype=<class 'numpy.int64'>,\n",
       "                                                                 handle_unknown='use_encoded_value',\n",
       "                                                                 unknown_value=-1),\n",
       "                                                  ['Species', 'Block', 'Street',\n",
       "                                                   'AddressNumberAndStreet'])],\n",
       "                                   verbose_feature_names_out=False)),\n",
       "                ('rf',\n",
       "                 RandomForestClassifier(class_weight={0: 1, 1: 20},\n",
       "                                        n_estimators=400, oob_score=True))])"
      ]
     },
     "execution_count": 15,
     "metadata": {},
     "output_type": "execute_result"
    }
   ],
   "source": [
    "from sklearn.ensemble import RandomForestClassifier\n",
    "from sklearn.pipeline import make_pipeline\n",
    "from sklearn.pipeline import Pipeline\n",
    "\n",
    "rf = RandomForestClassifier(n_estimators=400, oob_score=True, class_weight={0:1, 1:20})\n",
    "\n",
    "pipe = Pipeline([('tr', transformer), ('rf', rf)])\n",
    "\n",
    "pipe.fit(X_train, y_train)\n",
    "\n"
   ]
  },
  {
   "cell_type": "markdown",
   "id": "2e936f44",
   "metadata": {},
   "source": [
    "First let us try setting class weight to deal with unbalanced data, next we shall try oversampleing to deal with class imbalance"
   ]
  },
  {
   "cell_type": "code",
   "execution_count": 16,
   "id": "ab4020e9",
   "metadata": {},
   "outputs": [
    {
     "data": {
      "text/plain": [
       "0.9257849666983825"
      ]
     },
     "execution_count": 16,
     "metadata": {},
     "output_type": "execute_result"
    }
   ],
   "source": [
    "pipe.score(X_test, y_test)"
   ]
  },
  {
   "cell_type": "code",
   "execution_count": 17,
   "id": "386055d1",
   "metadata": {},
   "outputs": [
    {
     "data": {
      "text/plain": [
       "{'memory': None,\n",
       " 'steps': [('tr', ColumnTransformer(remainder='passthrough',\n",
       "                     transformers=[('categorical',\n",
       "                                    OrdinalEncoder(dtype=<class 'numpy.int64'>,\n",
       "                                                   handle_unknown='use_encoded_value',\n",
       "                                                   unknown_value=-1),\n",
       "                                    ['Species', 'Block', 'Street',\n",
       "                                     'AddressNumberAndStreet'])],\n",
       "                     verbose_feature_names_out=False)),\n",
       "  ('rf',\n",
       "   RandomForestClassifier(class_weight={0: 1, 1: 20}, n_estimators=400,\n",
       "                          oob_score=True))],\n",
       " 'verbose': False,\n",
       " 'tr': ColumnTransformer(remainder='passthrough',\n",
       "                   transformers=[('categorical',\n",
       "                                  OrdinalEncoder(dtype=<class 'numpy.int64'>,\n",
       "                                                 handle_unknown='use_encoded_value',\n",
       "                                                 unknown_value=-1),\n",
       "                                  ['Species', 'Block', 'Street',\n",
       "                                   'AddressNumberAndStreet'])],\n",
       "                   verbose_feature_names_out=False),\n",
       " 'rf': RandomForestClassifier(class_weight={0: 1, 1: 20}, n_estimators=400,\n",
       "                        oob_score=True),\n",
       " 'tr__n_jobs': None,\n",
       " 'tr__remainder': 'passthrough',\n",
       " 'tr__sparse_threshold': 0.3,\n",
       " 'tr__transformer_weights': None,\n",
       " 'tr__transformers': [('categorical',\n",
       "   OrdinalEncoder(dtype=<class 'numpy.int64'>, handle_unknown='use_encoded_value',\n",
       "                  unknown_value=-1),\n",
       "   ['Species', 'Block', 'Street', 'AddressNumberAndStreet'])],\n",
       " 'tr__verbose': False,\n",
       " 'tr__verbose_feature_names_out': False,\n",
       " 'tr__categorical': OrdinalEncoder(dtype=<class 'numpy.int64'>, handle_unknown='use_encoded_value',\n",
       "                unknown_value=-1),\n",
       " 'tr__categorical__categories': 'auto',\n",
       " 'tr__categorical__dtype': numpy.int64,\n",
       " 'tr__categorical__handle_unknown': 'use_encoded_value',\n",
       " 'tr__categorical__unknown_value': -1,\n",
       " 'rf__bootstrap': True,\n",
       " 'rf__ccp_alpha': 0.0,\n",
       " 'rf__class_weight': {0: 1, 1: 20},\n",
       " 'rf__criterion': 'gini',\n",
       " 'rf__max_depth': None,\n",
       " 'rf__max_features': 'auto',\n",
       " 'rf__max_leaf_nodes': None,\n",
       " 'rf__max_samples': None,\n",
       " 'rf__min_impurity_decrease': 0.0,\n",
       " 'rf__min_samples_leaf': 1,\n",
       " 'rf__min_samples_split': 2,\n",
       " 'rf__min_weight_fraction_leaf': 0.0,\n",
       " 'rf__n_estimators': 400,\n",
       " 'rf__n_jobs': None,\n",
       " 'rf__oob_score': True,\n",
       " 'rf__random_state': None,\n",
       " 'rf__verbose': 0,\n",
       " 'rf__warm_start': False}"
      ]
     },
     "execution_count": 17,
     "metadata": {},
     "output_type": "execute_result"
    }
   ],
   "source": [
    "pipe.get_params()"
   ]
  },
  {
   "cell_type": "code",
   "execution_count": 18,
   "id": "70311049",
   "metadata": {},
   "outputs": [],
   "source": [
    "from sklearn.model_selection import GridSearchCV\n",
    "\n",
    "param = {'rf__criterion':['gini', 'entropy'], 'rf__max_depth':[16, 32, 64], 'rf__min_samples_leaf':[2,4,8],\n",
    "         'rf__min_samples_split':[2,4,8]}\n",
    "\n",
    "grid = GridSearchCV(pipe, param, scoring='balanced_accuracy')\n"
   ]
  },
  {
   "cell_type": "code",
   "execution_count": 19,
   "id": "039eed49",
   "metadata": {},
   "outputs": [
    {
     "data": {
      "text/plain": [
       "GridSearchCV(estimator=Pipeline(steps=[('tr',\n",
       "                                        ColumnTransformer(remainder='passthrough',\n",
       "                                                          transformers=[('categorical',\n",
       "                                                                         OrdinalEncoder(dtype=<class 'numpy.int64'>,\n",
       "                                                                                        handle_unknown='use_encoded_value',\n",
       "                                                                                        unknown_value=-1),\n",
       "                                                                         ['Species',\n",
       "                                                                          'Block',\n",
       "                                                                          'Street',\n",
       "                                                                          'AddressNumberAndStreet'])],\n",
       "                                                          verbose_feature_names_out=False)),\n",
       "                                       ('rf',\n",
       "                                        RandomForestClassifier(class_weight={0: 1,\n",
       "                                                                             1: 20},\n",
       "                                                               n_estimators=400,\n",
       "                                                               oob_score=True))]),\n",
       "             param_grid={'rf__criterion': ['gini', 'entropy'],\n",
       "                         'rf__max_depth': [16, 32, 64],\n",
       "                         'rf__min_samples_leaf': [2, 4, 8],\n",
       "                         'rf__min_samples_split': [2, 4, 8]},\n",
       "             scoring='balanced_accuracy')"
      ]
     },
     "execution_count": 19,
     "metadata": {},
     "output_type": "execute_result"
    }
   ],
   "source": [
    "grid.fit(X_train, y_train)"
   ]
  },
  {
   "cell_type": "code",
   "execution_count": 20,
   "id": "2cde7db1",
   "metadata": {},
   "outputs": [
    {
     "data": {
      "text/plain": [
       "{'rf__criterion': 'gini',\n",
       " 'rf__max_depth': 16,\n",
       " 'rf__min_samples_leaf': 8,\n",
       " 'rf__min_samples_split': 8}"
      ]
     },
     "execution_count": 20,
     "metadata": {},
     "output_type": "execute_result"
    }
   ],
   "source": [
    "grid.best_params_"
   ]
  },
  {
   "cell_type": "code",
   "execution_count": 21,
   "id": "b8e064b0",
   "metadata": {},
   "outputs": [],
   "source": [
    "best_rf = grid.best_estimator_"
   ]
  },
  {
   "cell_type": "code",
   "execution_count": 22,
   "id": "cae86598",
   "metadata": {},
   "outputs": [
    {
     "data": {
      "image/png": "[encoded data removed]",
      "text/plain": [
       "<Figure size 1008x432 with 1 Axes>"
      ]
     },
     "metadata": {
      "needs_background": "light"
     },
     "output_type": "display_data"
    }
   ],
   "source": [
    "best_rf.fit(X_train, y_train)\n",
    "\n",
    "f_importance = pd.Series(index=X_train.columns.values, data = best_rf.get_params()['rf'].feature_importances_)\n",
    "\n",
    "f_importance = f_importance.sort_values(ascending=False)\n",
    "\n",
    "plt.figure(figsize=(14,6))\n",
    "sns.barplot(x=f_importance.index[:10], y=f_importance.values[:10])\n",
    "plt.show()"
   ]
  },
  {
   "cell_type": "code",
   "execution_count": 23,
   "id": "562d606d",
   "metadata": {},
   "outputs": [],
   "source": [
    "from sklearn.metrics import classification_report\n",
    "\n",
    "from sklearn.metrics import confusion_matrix\n",
    "\n",
    "y_pred = best_rf.predict(X_test)"
   ]
  },
  {
   "cell_type": "code",
   "execution_count": 24,
   "id": "fe8ff8c3",
   "metadata": {},
   "outputs": [
    {
     "name": "stdout",
     "output_type": "stream",
     "text": [
      "[[1793  199]\n",
      " [  42   68]]\n"
     ]
    }
   ],
   "source": [
    "cm = confusion_matrix(y_test.values, y_pred, labels=[0,1])\n",
    "print(cm)"
   ]
  },
  {
   "cell_type": "code",
   "execution_count": 25,
   "id": "ca123ebb",
   "metadata": {},
   "outputs": [
    {
     "name": "stdout",
     "output_type": "stream",
     "text": [
      "              precision    recall  f1-score   support\n",
      "\n",
      "           0       0.98      0.90      0.94      1992\n",
      "           1       0.25      0.62      0.36       110\n",
      "\n",
      "    accuracy                           0.89      2102\n",
      "   macro avg       0.62      0.76      0.65      2102\n",
      "weighted avg       0.94      0.89      0.91      2102\n",
      "\n"
     ]
    }
   ],
   "source": [
    "print(classification_report(y_test.values, y_pred))"
   ]
  },
  {
   "cell_type": "code",
   "execution_count": 26,
   "id": "ab419a46",
   "metadata": {},
   "outputs": [],
   "source": [
    "rf = RandomForestClassifier(n_estimators=400)\n",
    "\n",
    "pipe = Pipeline([('tr', transformer), ('rf', rf)])\n",
    "\n",
    "param = {'rf__criterion':['gini', 'entropy'], 'rf__max_depth':[16, 32, 64], 'rf__min_samples_leaf':[2,4,8],\n",
    "         'rf__min_samples_split':[2,4,8]}\n",
    "\n",
    "grid = GridSearchCV(pipe, param, scoring='balanced_accuracy')\n"
   ]
  },
  {
   "cell_type": "code",
   "execution_count": 27,
   "id": "653641cf",
   "metadata": {},
   "outputs": [
    {
     "data": {
      "text/plain": [
       "GridSearchCV(estimator=Pipeline(steps=[('tr',\n",
       "                                        ColumnTransformer(remainder='passthrough',\n",
       "                                                          transformers=[('categorical',\n",
       "                                                                         OrdinalEncoder(dtype=<class 'numpy.int64'>,\n",
       "                                                                                        handle_unknown='use_encoded_value',\n",
       "                                                                                        unknown_value=-1),\n",
       "                                                                         ['Species',\n",
       "                                                                          'Block',\n",
       "                                                                          'Street',\n",
       "                                                                          'AddressNumberAndStreet'])],\n",
       "                                                          verbose_feature_names_out=False)),\n",
       "                                       ('rf',\n",
       "                                        RandomForestClassifier(n_estimators=400))]),\n",
       "             param_grid={'rf__criterion': ['gini', 'entropy'],\n",
       "                         'rf__max_depth': [16, 32, 64],\n",
       "                         'rf__min_samples_leaf': [2, 4, 8],\n",
       "                         'rf__min_samples_split': [2, 4, 8]},\n",
       "             scoring='balanced_accuracy')"
      ]
     },
     "execution_count": 27,
     "metadata": {},
     "output_type": "execute_result"
    }
   ],
   "source": [
    "grid.fit(resample_X_train, resample_y_train)"
   ]
  },
  {
   "cell_type": "code",
   "execution_count": 28,
   "id": "c3d1d8c3",
   "metadata": {},
   "outputs": [
    {
     "data": {
      "text/plain": [
       "{'rf__criterion': 'gini',\n",
       " 'rf__max_depth': 32,\n",
       " 'rf__min_samples_leaf': 2,\n",
       " 'rf__min_samples_split': 2}"
      ]
     },
     "execution_count": 28,
     "metadata": {},
     "output_type": "execute_result"
    }
   ],
   "source": [
    "grid.best_params_"
   ]
  },
  {
   "cell_type": "code",
   "execution_count": 29,
   "id": "a60c508c",
   "metadata": {},
   "outputs": [],
   "source": [
    "best_rf = grid.best_estimator_"
   ]
  },
  {
   "cell_type": "code",
   "execution_count": 30,
   "id": "35e91abd",
   "metadata": {},
   "outputs": [
    {
     "data": {
      "image/png": "[encoded data removed]",
      "text/plain": [
       "<Figure size 1008x432 with 1 Axes>"
      ]
     },
     "metadata": {
      "needs_background": "light"
     },
     "output_type": "display_data"
    }
   ],
   "source": [
    "best_rf.fit(resample_X_train, resample_y_train)\n",
    "\n",
    "f_importance = pd.Series(index=resample_X_train.columns.values, data = best_rf.get_params()['rf'].feature_importances_)\n",
    "\n",
    "f_importance = f_importance.sort_values(ascending=False)\n",
    "\n",
    "plt.figure(figsize=(14,6))\n",
    "sns.barplot(x=f_importance.index[:10], y=f_importance.values[:10])\n",
    "plt.show()"
   ]
  },
  {
   "cell_type": "code",
   "execution_count": 31,
   "id": "b0df7ebc",
   "metadata": {},
   "outputs": [
    {
     "name": "stdout",
     "output_type": "stream",
     "text": [
      "[[1801  191]\n",
      " [  50   60]]\n",
      "              precision    recall  f1-score   support\n",
      "\n",
      "           0       0.97      0.90      0.94      1992\n",
      "           1       0.24      0.55      0.33       110\n",
      "\n",
      "    accuracy                           0.89      2102\n",
      "   macro avg       0.61      0.72      0.63      2102\n",
      "weighted avg       0.93      0.89      0.91      2102\n",
      "\n"
     ]
    }
   ],
   "source": [
    "y_pred = best_rf.predict(X_test)\n",
    "\n",
    "cm = confusion_matrix(y_test.values, y_pred, labels=[0,1])\n",
    "print(cm)\n",
    "\n",
    "print(classification_report(y_test.values, y_pred))"
   ]
  },
  {
   "cell_type": "code",
   "execution_count": 32,
   "id": "732ea8cc",
   "metadata": {},
   "outputs": [],
   "source": [
    "from sklearn.ensemble import GradientBoostingClassifier\n",
    "\n",
    "\n",
    "gb = GradientBoostingClassifier(n_estimators=400)\n",
    "\n",
    "pipe = Pipeline([('tr', transformer), ('gb', gb)])\n"
   ]
  },
  {
   "cell_type": "code",
   "execution_count": 33,
   "id": "14e93dc5",
   "metadata": {},
   "outputs": [
    {
     "data": {
      "text/plain": [
       "{'memory': None,\n",
       " 'steps': [('tr', ColumnTransformer(remainder='passthrough',\n",
       "                     transformers=[('categorical',\n",
       "                                    OrdinalEncoder(dtype=<class 'numpy.int64'>,\n",
       "                                                   handle_unknown='use_encoded_value',\n",
       "                                                   unknown_value=-1),\n",
       "                                    ['Species', 'Block', 'Street',\n",
       "                                     'AddressNumberAndStreet'])],\n",
       "                     verbose_feature_names_out=False)),\n",
       "  ('gb', GradientBoostingClassifier(n_estimators=400))],\n",
       " 'verbose': False,\n",
       " 'tr': ColumnTransformer(remainder='passthrough',\n",
       "                   transformers=[('categorical',\n",
       "                                  OrdinalEncoder(dtype=<class 'numpy.int64'>,\n",
       "                                                 handle_unknown='use_encoded_value',\n",
       "                                                 unknown_value=-1),\n",
       "                                  ['Species', 'Block', 'Street',\n",
       "                                   'AddressNumberAndStreet'])],\n",
       "                   verbose_feature_names_out=False),\n",
       " 'gb': GradientBoostingClassifier(n_estimators=400),\n",
       " 'tr__n_jobs': None,\n",
       " 'tr__remainder': 'passthrough',\n",
       " 'tr__sparse_threshold': 0.3,\n",
       " 'tr__transformer_weights': None,\n",
       " 'tr__transformers': [('categorical',\n",
       "   OrdinalEncoder(dtype=<class 'numpy.int64'>, handle_unknown='use_encoded_value',\n",
       "                  unknown_value=-1),\n",
       "   ['Species', 'Block', 'Street', 'AddressNumberAndStreet'])],\n",
       " 'tr__verbose': False,\n",
       " 'tr__verbose_feature_names_out': False,\n",
       " 'tr__categorical': OrdinalEncoder(dtype=<class 'numpy.int64'>, handle_unknown='use_encoded_value',\n",
       "                unknown_value=-1),\n",
       " 'tr__categorical__categories': 'auto',\n",
       " 'tr__categorical__dtype': numpy.int64,\n",
       " 'tr__categorical__handle_unknown': 'use_encoded_value',\n",
       " 'tr__categorical__unknown_value': -1,\n",
       " 'gb__ccp_alpha': 0.0,\n",
       " 'gb__criterion': 'friedman_mse',\n",
       " 'gb__init': None,\n",
       " 'gb__learning_rate': 0.1,\n",
       " 'gb__loss': 'deviance',\n",
       " 'gb__max_depth': 3,\n",
       " 'gb__max_features': None,\n",
       " 'gb__max_leaf_nodes': None,\n",
       " 'gb__min_impurity_decrease': 0.0,\n",
       " 'gb__min_samples_leaf': 1,\n",
       " 'gb__min_samples_split': 2,\n",
       " 'gb__min_weight_fraction_leaf': 0.0,\n",
       " 'gb__n_estimators': 400,\n",
       " 'gb__n_iter_no_change': None,\n",
       " 'gb__random_state': None,\n",
       " 'gb__subsample': 1.0,\n",
       " 'gb__tol': 0.0001,\n",
       " 'gb__validation_fraction': 0.1,\n",
       " 'gb__verbose': 0,\n",
       " 'gb__warm_start': False}"
      ]
     },
     "execution_count": 33,
     "metadata": {},
     "output_type": "execute_result"
    }
   ],
   "source": [
    "pipe.get_params()"
   ]
  },
  {
   "cell_type": "code",
   "execution_count": 34,
   "id": "785e33ef",
   "metadata": {},
   "outputs": [],
   "source": [
    "param = {'gb__learning_rate':[0.16, 0.24], 'gb__max_depth':[12, 20],\n",
    "         'gb__min_samples_leaf':[2,4,8], 'gb__min_samples_split':[2,4,8]}\n",
    "\n",
    "grid = GridSearchCV(pipe, param, scoring='balanced_accuracy')\n"
   ]
  },
  {
   "cell_type": "code",
   "execution_count": 35,
   "id": "7c7a1fb5",
   "metadata": {},
   "outputs": [
    {
     "data": {
      "text/plain": [
       "GridSearchCV(estimator=Pipeline(steps=[('tr',\n",
       "                                        ColumnTransformer(remainder='passthrough',\n",
       "                                                          transformers=[('categorical',\n",
       "                                                                         OrdinalEncoder(dtype=<class 'numpy.int64'>,\n",
       "                                                                                        handle_unknown='use_encoded_value',\n",
       "                                                                                        unknown_value=-1),\n",
       "                                                                         ['Species',\n",
       "                                                                          'Block',\n",
       "                                                                          'Street',\n",
       "                                                                          'AddressNumberAndStreet'])],\n",
       "                                                          verbose_feature_names_out=False)),\n",
       "                                       ('gb',\n",
       "                                        GradientBoostingClassifier(n_estimators=400))]),\n",
       "             param_grid={'gb__learning_rate': [0.16, 0.24],\n",
       "                         'gb__max_depth': [6, 12],\n",
       "                         'gb__min_samples_leaf': [2, 4, 8],\n",
       "                         'gb__min_samples_split': [2, 4, 8]},\n",
       "             scoring='balanced_accuracy')"
      ]
     },
     "execution_count": 35,
     "metadata": {},
     "output_type": "execute_result"
    }
   ],
   "source": [
    "grid.fit(resample_X_train, resample_y_train)"
   ]
  },
  {
   "cell_type": "code",
   "execution_count": 36,
   "id": "13b56bfb",
   "metadata": {},
   "outputs": [
    {
     "data": {
      "text/plain": [
       "{'gb__learning_rate': 0.24,\n",
       " 'gb__max_depth': 12,\n",
       " 'gb__min_samples_leaf': 2,\n",
       " 'gb__min_samples_split': 4}"
      ]
     },
     "execution_count": 36,
     "metadata": {},
     "output_type": "execute_result"
    }
   ],
   "source": [
    "grid.best_params_"
   ]
  },
  {
   "cell_type": "code",
   "execution_count": 37,
   "id": "a106182a",
   "metadata": {},
   "outputs": [],
   "source": [
    "best_gb = grid.best_estimator_"
   ]
  },
  {
   "cell_type": "code",
   "execution_count": 38,
   "id": "95ef57ea",
   "metadata": {},
   "outputs": [
    {
     "data": {
      "image/png": "[encoded data removed]",
      "text/plain": [
       "<Figure size 1008x432 with 1 Axes>"
      ]
     },
     "metadata": {
      "needs_background": "light"
     },
     "output_type": "display_data"
    }
   ],
   "source": [
    "best_gb.fit(resample_X_train, resample_y_train)\n",
    "\n",
    "f_importance = pd.Series(index=resample_X_train.columns.values, data = best_gb.get_params()['gb'].feature_importances_)\n",
    "\n",
    "f_importance = f_importance.sort_values(ascending=False)\n",
    "\n",
    "plt.figure(figsize=(14,6))\n",
    "sns.barplot(x=f_importance.index[:10], y=f_importance.values[:10])\n",
    "plt.show()"
   ]
  },
  {
   "cell_type": "code",
   "execution_count": 39,
   "id": "7cab2299",
   "metadata": {},
   "outputs": [
    {
     "name": "stdout",
     "output_type": "stream",
     "text": [
      "[[1856  136]\n",
      " [  63   47]]\n",
      "              precision    recall  f1-score   support\n",
      "\n",
      "           0       0.97      0.93      0.95      1992\n",
      "           1       0.26      0.43      0.32       110\n",
      "\n",
      "    accuracy                           0.91      2102\n",
      "   macro avg       0.61      0.68      0.63      2102\n",
      "weighted avg       0.93      0.91      0.92      2102\n",
      "\n"
     ]
    }
   ],
   "source": [
    "y_pred = best_gb.predict(X_test)\n",
    "\n",
    "cm = confusion_matrix(y_test.values, y_pred, labels=[0,1])\n",
    "print(cm)\n",
    "\n",
    "print(classification_report(y_test.values, y_pred))"
   ]
  },
  {
   "cell_type": "code",
   "execution_count": 64,
   "id": "c97ea9ae",
   "metadata": {},
   "outputs": [],
   "source": [
    "from lightgbm import LGBMClassifier\n",
    "\n",
    "pipe = Pipeline([('tr', transformer), ('lgbm', LGBMClassifier())])\n",
    "\n",
    "\n",
    "param = {'lgbm__max_depth':[12, 16, 20] ,'lgbm__learning_rate':[0.1, 0.2,0.4], 'lgbm__n_estimators':[400, 600], \n",
    "        'lgbm__min_child_samples':[2,4], 'lgbm__scale_pos_weight':[15, 25]}\n",
    "\n",
    "grid = GridSearchCV(pipe, param, scoring = 'balanced_accuracy')"
   ]
  },
  {
   "cell_type": "code",
   "execution_count": 65,
   "id": "b89d41be",
   "metadata": {},
   "outputs": [
    {
     "data": {
      "text/plain": [
       "GridSearchCV(estimator=Pipeline(steps=[('tr',\n",
       "                                        ColumnTransformer(remainder='passthrough',\n",
       "                                                          transformers=[('categorical',\n",
       "                                                                         OrdinalEncoder(dtype=<class 'numpy.int64'>,\n",
       "                                                                                        handle_unknown='use_encoded_value',\n",
       "                                                                                        unknown_value=-1),\n",
       "                                                                         ['Species',\n",
       "                                                                          'Block',\n",
       "                                                                          'Street',\n",
       "                                                                          'AddressNumberAndStreet'])],\n",
       "                                                          verbose_feature_names_out=False)),\n",
       "                                       ('lgbm', LGBMClassifier())]),\n",
       "             param_grid={'lgbm__learning_rate': [0.1, 0.2, 0.4],\n",
       "                         'lgbm__max_depth': [12, 16, 20],\n",
       "                         'lgbm__min_child_samples': [2, 4],\n",
       "                         'lgbm__n_estimators': [400, 600],\n",
       "                         'lgbm__scale_pos_weight': [15, 25]},\n",
       "             scoring='balanced_accuracy')"
      ]
     },
     "execution_count": 65,
     "metadata": {},
     "output_type": "execute_result"
    }
   ],
   "source": [
    "grid.fit(X_train, y_train)"
   ]
  },
  {
   "cell_type": "code",
   "execution_count": 66,
   "id": "678f5130",
   "metadata": {},
   "outputs": [
    {
     "data": {
      "text/plain": [
       "{'lgbm__learning_rate': 0.1,\n",
       " 'lgbm__max_depth': 20,\n",
       " 'lgbm__min_child_samples': 4,\n",
       " 'lgbm__n_estimators': 400,\n",
       " 'lgbm__scale_pos_weight': 25}"
      ]
     },
     "execution_count": 66,
     "metadata": {},
     "output_type": "execute_result"
    }
   ],
   "source": [
    "grid.best_params_"
   ]
  },
  {
   "cell_type": "code",
   "execution_count": 67,
   "id": "1faf56b6",
   "metadata": {},
   "outputs": [],
   "source": [
    "best_lgbm = grid.best_estimator_"
   ]
  },
  {
   "cell_type": "code",
   "execution_count": 68,
   "id": "8f0e0e83",
   "metadata": {},
   "outputs": [
    {
     "data": {
      "image/png": "[encoded data removed]",
      "text/plain": [
       "<Figure size 1008x432 with 1 Axes>"
      ]
     },
     "metadata": {
      "needs_background": "light"
     },
     "output_type": "display_data"
    }
   ],
   "source": [
    "best_lgbm.fit(X_train, y_train)\n",
    "\n",
    "f_importance = pd.Series(index=X_train.columns.values, data = best_lgbm.get_params()['lgbm'].feature_importances_)\n",
    "\n",
    "f_importance = f_importance.sort_values(ascending=False)\n",
    "\n",
    "plt.figure(figsize=(14,6))\n",
    "sns.barplot(x=f_importance.index[:10], y=f_importance.values[:10])\n",
    "plt.show()"
   ]
  },
  {
   "cell_type": "code",
   "execution_count": 69,
   "id": "b777033b",
   "metadata": {},
   "outputs": [
    {
     "name": "stdout",
     "output_type": "stream",
     "text": [
      "[[1853  139]\n",
      " [  58   52]]\n",
      "              precision    recall  f1-score   support\n",
      "\n",
      "           0       0.97      0.93      0.95      1992\n",
      "           1       0.27      0.47      0.35       110\n",
      "\n",
      "    accuracy                           0.91      2102\n",
      "   macro avg       0.62      0.70      0.65      2102\n",
      "weighted avg       0.93      0.91      0.92      2102\n",
      "\n"
     ]
    }
   ],
   "source": [
    "y_pred = best_lgbm.predict(X_test)\n",
    "\n",
    "cm = confusion_matrix(y_test.values, y_pred, labels=[0,1])\n",
    "print(cm)\n",
    "\n",
    "print(classification_report(y_test.values, y_pred))"
   ]
  },
  {
   "cell_type": "code",
   "execution_count": 70,
   "id": "eb223a37",
   "metadata": {},
   "outputs": [],
   "source": [
    "from lightgbm import LGBMClassifier\n",
    "\n",
    "pipe = Pipeline([('tr', transformer), ('lgbm', LGBMClassifier())])\n",
    "\n",
    "\n",
    "param = {'lgbm__max_depth':[12, 16, 20] ,'lgbm__learning_rate':[0.1,0.2,0.4], 'lgbm__n_estimators':[400, 600], \n",
    "        'lgbm__min_child_samples':[2,4,6]}\n",
    "\n",
    "grid = GridSearchCV(pipe, param, scoring='balanced_accuracy')"
   ]
  },
  {
   "cell_type": "code",
   "execution_count": 71,
   "id": "c628e970",
   "metadata": {},
   "outputs": [
    {
     "data": {
      "text/plain": [
       "GridSearchCV(estimator=Pipeline(steps=[('tr',\n",
       "                                        ColumnTransformer(remainder='passthrough',\n",
       "                                                          transformers=[('categorical',\n",
       "                                                                         OrdinalEncoder(dtype=<class 'numpy.int64'>,\n",
       "                                                                                        handle_unknown='use_encoded_value',\n",
       "                                                                                        unknown_value=-1),\n",
       "                                                                         ['Species',\n",
       "                                                                          'Block',\n",
       "                                                                          'Street',\n",
       "                                                                          'AddressNumberAndStreet'])],\n",
       "                                                          verbose_feature_names_out=False)),\n",
       "                                       ('lgbm', LGBMClassifier())]),\n",
       "             param_grid={'lgbm__learning_rate': [0.1, 0.2, 0.4],\n",
       "                         'lgbm__max_depth': [12, 16, 20],\n",
       "                         'lgbm__min_child_samples': [2, 4, 6],\n",
       "                         'lgbm__n_estimators': [400, 600]},\n",
       "             scoring='balanced_accuracy')"
      ]
     },
     "execution_count": 71,
     "metadata": {},
     "output_type": "execute_result"
    }
   ],
   "source": [
    "grid.fit(resample_X_train, resample_y_train)"
   ]
  },
  {
   "cell_type": "code",
   "execution_count": 72,
   "id": "e0be07d1",
   "metadata": {},
   "outputs": [
    {
     "data": {
      "text/plain": [
       "{'lgbm__learning_rate': 0.2,\n",
       " 'lgbm__max_depth': 20,\n",
       " 'lgbm__min_child_samples': 6,\n",
       " 'lgbm__n_estimators': 600}"
      ]
     },
     "execution_count": 72,
     "metadata": {},
     "output_type": "execute_result"
    }
   ],
   "source": [
    "grid.best_params_"
   ]
  },
  {
   "cell_type": "code",
   "execution_count": 73,
   "id": "fc23e874",
   "metadata": {},
   "outputs": [],
   "source": [
    "best_lgbm = grid.best_estimator_"
   ]
  },
  {
   "cell_type": "code",
   "execution_count": 74,
   "id": "5289f667",
   "metadata": {},
   "outputs": [
    {
     "data": {
      "image/png": "[encoded data removed]",
      "text/plain": [
       "<Figure size 1008x432 with 1 Axes>"
      ]
     },
     "metadata": {
      "needs_background": "light"
     },
     "output_type": "display_data"
    }
   ],
   "source": [
    "best_lgbm.fit(resample_X_train, resample_y_train)\n",
    "\n",
    "f_importance = pd.Series(index=resample_X_train.columns.values, data = best_lgbm.get_params()['lgbm'].feature_importances_)\n",
    "\n",
    "f_importance = f_importance.sort_values(ascending=False)\n",
    "\n",
    "plt.figure(figsize=(14,6))\n",
    "sns.barplot(x=f_importance.index[:10], y=f_importance.values[:10])\n",
    "plt.show()"
   ]
  },
  {
   "cell_type": "code",
   "execution_count": 75,
   "id": "fe4909d0",
   "metadata": {},
   "outputs": [
    {
     "name": "stdout",
     "output_type": "stream",
     "text": [
      "[[1842  150]\n",
      " [  58   52]]\n",
      "              precision    recall  f1-score   support\n",
      "\n",
      "           0       0.97      0.92      0.95      1992\n",
      "           1       0.26      0.47      0.33       110\n",
      "\n",
      "    accuracy                           0.90      2102\n",
      "   macro avg       0.61      0.70      0.64      2102\n",
      "weighted avg       0.93      0.90      0.91      2102\n",
      "\n"
     ]
    }
   ],
   "source": [
    "y_pred = best_lgbm.predict(X_test)\n",
    "\n",
    "cm = confusion_matrix(y_test.values, y_pred, labels=[0,1])\n",
    "print(cm)\n",
    "\n",
    "print(classification_report(y_test.values, y_pred))"
   ]
  },
  {
   "cell_type": "code",
   "execution_count": null,
   "id": "c0006a0e",
   "metadata": {},
   "outputs": [],
   "source": []
  }
 ],
 "metadata": {
  "kernelspec": {
   "display_name": "Python 3 (ipykernel)",
   "language": "python",
   "name": "python3"
  },
  "language_info": {
   "codemirror_mode": {
    "name": "ipython",
    "version": 3
   },
   "file_extension": ".py",
   "mimetype": "text/x-python",
   "name": "python",
   "nbconvert_exporter": "python",
   "pygments_lexer": "ipython3",
   "version": "3.9.12"
  }
 },
 "nbformat": 4,
 "nbformat_minor": 5
}
